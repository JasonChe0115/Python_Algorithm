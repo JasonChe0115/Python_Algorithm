{
 "cells": [
  {
   "cell_type": "code",
   "execution_count": 521,
   "metadata": {},
   "outputs": [
    {
     "ename": "NameError",
     "evalue": "name 'e' is not defined",
     "output_type": "error",
     "traceback": [
      "\u001b[1;31m---------------------------------------------------------------------------\u001b[0m",
      "\u001b[1;31mNameError\u001b[0m                                 Traceback (most recent call last)",
      "\u001b[1;32m<ipython-input-521-fca17c0c2ab4>\u001b[0m in \u001b[0;36m<module>\u001b[1;34m\u001b[0m\n\u001b[0;32m      1\u001b[0m \u001b[0mStack\u001b[0m\u001b[1;33m(\u001b[0m\u001b[1;33m)\u001b[0m\u001b[1;33m\u001b[0m\u001b[1;33m\u001b[0m\u001b[0m\n\u001b[0;32m      2\u001b[0m \u001b[0misEmpty\u001b[0m\u001b[1;33m(\u001b[0m\u001b[1;33m)\u001b[0m\u001b[1;33m\u001b[0m\u001b[1;33m\u001b[0m\u001b[0m\n\u001b[1;32m----> 3\u001b[1;33m \u001b[0mpush\u001b[0m\u001b[1;33m(\u001b[0m\u001b[0me\u001b[0m\u001b[1;33m)\u001b[0m\u001b[1;33m\u001b[0m\u001b[1;33m\u001b[0m\u001b[0m\n\u001b[0m\u001b[0;32m      4\u001b[0m \u001b[0mpop\u001b[0m\u001b[1;33m(\u001b[0m\u001b[1;33m)\u001b[0m\u001b[1;33m\u001b[0m\u001b[1;33m\u001b[0m\u001b[0m\n\u001b[0;32m      5\u001b[0m \u001b[0mpeek\u001b[0m\u001b[1;33m(\u001b[0m\u001b[1;33m)\u001b[0m\u001b[1;33m\u001b[0m\u001b[1;33m\u001b[0m\u001b[0m\n",
      "\u001b[1;31mNameError\u001b[0m: name 'e' is not defined"
     ]
    }
   ],
   "source": [
    "Stack()\n",
    "isEmpty()\n",
    "push(e)\n",
    "pop()\n",
    "peek()\n",
    "size()\n",
    "clear()"
   ]
  },
  {
   "cell_type": "code",
   "execution_count": 1,
   "metadata": {},
   "outputs": [],
   "source": [
    "# 배열 구조를 이용한 함수 version\n",
    "\n",
    "top = []  # 스택을 저장할 리스트\n",
    "\n",
    "def isEmpty():\n",
    "    return len(top) == 0\n",
    "\n",
    "def push(item):\n",
    "    top.append(item)\n",
    "    \n",
    "def pop():\n",
    "    if not isEmpty():\n",
    "        return top.pop(-1)   #  -1 쓰는 이유는 가장 뒤에 있기 때문에.\n",
    "\n",
    "def peek():\n",
    "    if not isEmpty():\n",
    "        return top[-1]\n",
    "    \n",
    "def size():\n",
    "    return len(top)\n",
    "\n",
    "def clear():\n",
    "#     global top     # top이 전역변수 이기 떄문에\n",
    "    top = []\n",
    "    \n",
    "\n",
    "    "
   ]
  },
  {
   "cell_type": "code",
   "execution_count": 2,
   "metadata": {},
   "outputs": [
    {
     "name": "stdout",
     "output_type": "stream",
     "text": [
      "[0, 1, 2, 3, 4, 5, 6, 7, 8, 9]\n"
     ]
    }
   ],
   "source": [
    "for i in range(10):   # 0~9까지 숫자가 top 에 들어갑니다.\n",
    "    push(i)\n",
    "\n",
    "print(top)"
   ]
  },
  {
   "cell_type": "code",
   "execution_count": 3,
   "metadata": {},
   "outputs": [
    {
     "data": {
      "text/plain": [
       "9"
      ]
     },
     "execution_count": 3,
     "metadata": {},
     "output_type": "execute_result"
    }
   ],
   "source": [
    "pop()"
   ]
  },
  {
   "cell_type": "code",
   "execution_count": 4,
   "metadata": {},
   "outputs": [
    {
     "data": {
      "text/plain": [
       "8"
      ]
     },
     "execution_count": 4,
     "metadata": {},
     "output_type": "execute_result"
    }
   ],
   "source": [
    "pop()"
   ]
  },
  {
   "cell_type": "code",
   "execution_count": 5,
   "metadata": {},
   "outputs": [
    {
     "name": "stdout",
     "output_type": "stream",
     "text": [
      "[0, 1, 2, 3, 4, 5, 6, 7]\n"
     ]
    }
   ],
   "source": [
    "print(top)"
   ]
  },
  {
   "cell_type": "code",
   "execution_count": 6,
   "metadata": {},
   "outputs": [
    {
     "data": {
      "text/plain": [
       "[0, 1, 2, 3, 4, 5, 6, 7]"
      ]
     },
     "execution_count": 6,
     "metadata": {},
     "output_type": "execute_result"
    }
   ],
   "source": [
    "top"
   ]
  },
  {
   "cell_type": "code",
   "execution_count": 7,
   "metadata": {},
   "outputs": [
    {
     "data": {
      "text/plain": [
       "7"
      ]
     },
     "execution_count": 7,
     "metadata": {},
     "output_type": "execute_result"
    }
   ],
   "source": [
    "peek()"
   ]
  },
  {
   "cell_type": "code",
   "execution_count": 8,
   "metadata": {},
   "outputs": [
    {
     "name": "stdout",
     "output_type": "stream",
     "text": [
      "[0, 1, 2, 3, 4, 5, 6, 7]\n"
     ]
    }
   ],
   "source": [
    "print(top)"
   ]
  },
  {
   "cell_type": "code",
   "execution_count": 9,
   "metadata": {},
   "outputs": [
    {
     "data": {
      "text/plain": [
       "8"
      ]
     },
     "execution_count": 9,
     "metadata": {},
     "output_type": "execute_result"
    }
   ],
   "source": [
    "size()"
   ]
  },
  {
   "cell_type": "code",
   "execution_count": 10,
   "metadata": {},
   "outputs": [],
   "source": [
    "clear()"
   ]
  },
  {
   "cell_type": "code",
   "execution_count": 11,
   "metadata": {},
   "outputs": [
    {
     "data": {
      "text/plain": [
       "[0, 1, 2, 3, 4, 5, 6, 7]"
      ]
     },
     "execution_count": 11,
     "metadata": {},
     "output_type": "execute_result"
    }
   ],
   "source": [
    "top"
   ]
  },
  {
   "cell_type": "code",
   "execution_count": 12,
   "metadata": {},
   "outputs": [
    {
     "data": {
      "text/plain": [
       "False"
      ]
     },
     "execution_count": 12,
     "metadata": {},
     "output_type": "execute_result"
    }
   ],
   "source": [
    "isEmpty()"
   ]
  },
  {
   "cell_type": "code",
   "execution_count": 4,
   "metadata": {},
   "outputs": [],
   "source": [
    "class Stack:\n",
    "    def __init__ (self):  # 생성자\n",
    "        self.top = []     # 아까는 top 이 밖에 있었는데, 각 인스턴스 마다 top을 만들어주기위해, top을 선언!\n",
    "        \n",
    "\n",
    "    def isEmpty(self):\n",
    "        return len(self.top) == 0\n",
    "\n",
    "    def push(self, item):\n",
    "        self.top.append(item)\n",
    "\n",
    "    def pop(self):\n",
    "        if not self.isEmpty():\n",
    "            return self.top.pop(-1)   #  -1 쓰는 이유는 가장 뒤에 있기 때문에.\n",
    "\n",
    "    def peek(self):\n",
    "        if not self.isEmpty():\n",
    "            return self.top[-1]\n",
    "\n",
    "    def size(self):\n",
    "        return len(self.top)\n",
    "\n",
    "    def clear(self):\n",
    "        self.top = []\n",
    "    \n",
    "    def __str__(self):\n",
    "        return str(self.top[::-1])    # print 할 떄 자동으로 string 화"
   ]
  },
  {
   "cell_type": "code",
   "execution_count": 39,
   "metadata": {},
   "outputs": [],
   "source": [
    "# p132 홀 짝\n",
    "\n",
    "odd = Stack()\n",
    "even = Stack()\n",
    "\n",
    "for i in range(30):    # 0~29 까지의 숫자\n",
    "    if i % 2 == 0: \n",
    "        even.push(i)\n",
    "    else:\n",
    "        odd.push(i)\n"
   ]
  },
  {
   "cell_type": "code",
   "execution_count": 40,
   "metadata": {},
   "outputs": [
    {
     "name": "stdout",
     "output_type": "stream",
     "text": [
      "[29, 27, 25, 23, 21, 19, 17, 15, 13, 11, 9, 7, 5, 3, 1]\n",
      "[28, 26, 24, 22, 20, 18, 16, 14, 12, 10, 8, 6, 4, 2, 0]\n",
      "29\n",
      "28\n"
     ]
    }
   ],
   "source": [
    "print(odd)\n",
    "print(even)\n",
    "print(odd.peek())\n",
    "print(even.peek())"
   ]
  },
  {
   "cell_type": "code",
   "execution_count": 16,
   "metadata": {},
   "outputs": [],
   "source": [
    "for _ in range(5):   # 변수 상관없이 그냥 5번!!\n",
    "    odd.pop()\n",
    "    \n",
    "for _ in range(3):\n",
    "    even.pop()\n",
    "    "
   ]
  },
  {
   "cell_type": "code",
   "execution_count": 17,
   "metadata": {},
   "outputs": [
    {
     "name": "stdout",
     "output_type": "stream",
     "text": [
      "19\n",
      "22\n"
     ]
    }
   ],
   "source": [
    "print(odd.peek())\n",
    "print(even.peek())"
   ]
  },
  {
   "cell_type": "code",
   "execution_count": 18,
   "metadata": {},
   "outputs": [
    {
     "data": {
      "text/plain": [
       "[0, 2, 4, 6, 8, 10, 12, 14, 16, 18, 20, 22]"
      ]
     },
     "execution_count": 18,
     "metadata": {},
     "output_type": "execute_result"
    }
   ],
   "source": [
    "even.top          # odd 인스턴스가 가진, top 이란 변수에 접근"
   ]
  },
  {
   "cell_type": "code",
   "execution_count": 19,
   "metadata": {},
   "outputs": [
    {
     "data": {
      "text/plain": [
       "[1, 3, 5, 7, 9, 11, 13, 15, 17, 19]"
      ]
     },
     "execution_count": 19,
     "metadata": {},
     "output_type": "execute_result"
    }
   ],
   "source": [
    "odd.top           #  but, 이런건 바른 방법은 아닙니다."
   ]
  },
  {
   "cell_type": "code",
   "execution_count": 20,
   "metadata": {},
   "outputs": [],
   "source": [
    "# p136 괄호검사\n",
    "\n",
    "def checkBrackets(statement):    # statement = 입력값.  한글자씩 볼것!\n",
    "    stack = Stack()   # 스택 선언\n",
    "    \n",
    "    for ch in statement:\n",
    "        if ch in ('(', '{', '['):\n",
    "            stack.push(ch)\n",
    "        elif ch in (']', ')', '}'):\n",
    "            if stack.isEmpty():   # stack 이 비어있는데, 오른쪽 괄호 등장!!\n",
    "                print('  stack 이 비어있는데, 오른쪽 괄호 등장!')\n",
    "                return False\n",
    "            else:\n",
    "                left = stack.pop()  # stack의 가장 위에 있는 괄호 가져옴\n",
    "                if (ch == '}' and left != '{') or \\\n",
    "                   (ch == ')' and left != '(') or \\\n",
    "                   (ch == ']' and left != '['):\n",
    "                    print('  짝이 맞지 않으면,  False')\n",
    "                    return False   # 짝이 맞지 않으면,  False\n",
    "    \n",
    "    if stack.isEmpty():\n",
    "        return True\n",
    "    else:\n",
    "        print('  만약 닫히지 않은 괄호가 있다면 False 출력!')\n",
    "        return False\n",
    "    return stack.isEmpty()   # 만약 닫히지 않은 괄호가 있다면,  False 가 출력            \n",
    "                "
   ]
  },
  {
   "cell_type": "code",
   "execution_count": 21,
   "metadata": {},
   "outputs": [
    {
     "name": "stdout",
     "output_type": "stream",
     "text": [
      "{A[(i+1)]} = 0; -----> True\n",
      "  만약 닫히지 않은 괄호가 있다면 False 출력!\n",
      "if ( (i==0) && (j==0) -----> False\n",
      "  짝이 맞지 않으면,  False\n",
      "A[(i+1]) = 0;] -----> False\n"
     ]
    }
   ],
   "source": [
    "str1 = (\"{A[(i+1)]} = 0;\", 'if ( (i==0) && (j==0)', 'A[(i+1]) = 0;]')\n",
    "# string 으로 대체하는 것  위에 str 메소드를 대체해버리는 기능을 해버린다..   strVal 로 바꾸셔야됩니다!!!\n",
    "# 기존에 있던 기능을 사라지게 해버리니까.. \n",
    "\n",
    "for s in str1:\n",
    "    m = checkBrackets(s)\n",
    "    print(s, '----->', m)"
   ]
  },
  {
   "cell_type": "code",
   "execution_count": 22,
   "metadata": {},
   "outputs": [],
   "source": [
    "# p 141  후위표기 수식 계산\n",
    "\n",
    "expr1 = ['8', '2', '/', '3', '-', '3', '2', '*', '+']"
   ]
  },
  {
   "cell_type": "code",
   "execution_count": 23,
   "metadata": {},
   "outputs": [],
   "source": [
    "def evalPostfix(expr):\n",
    "    s = Stack()\n",
    "    \n",
    "    for token in expr:\n",
    "        if token in ('+-*/'):\n",
    "            val2 = s.pop()\n",
    "            val1 = s.pop()\n",
    "            if (token == '+'): s.push(val1 + val2)\n",
    "            if (token == '-'): s.push(val1 - val2)\n",
    "            if (token == '*'): s.push(val1 * val2)\n",
    "            if (token == '/'): s.push(val1 / val2)\n",
    "        else:\n",
    "            s.push(float(token))\n",
    "    \n",
    "    return s.pop()\n"
   ]
  },
  {
   "cell_type": "code",
   "execution_count": 24,
   "metadata": {},
   "outputs": [
    {
     "data": {
      "text/plain": [
       "7.0"
      ]
     },
     "execution_count": 24,
     "metadata": {},
     "output_type": "execute_result"
    }
   ],
   "source": [
    "evalPostfix(expr1)"
   ]
  },
  {
   "cell_type": "code",
   "execution_count": 25,
   "metadata": {},
   "outputs": [],
   "source": [
    "expr2 = ['1', '2', '/', '4', '*', '1', '4', '/', '*']"
   ]
  },
  {
   "cell_type": "code",
   "execution_count": 26,
   "metadata": {},
   "outputs": [
    {
     "data": {
      "text/plain": [
       "0.5"
      ]
     },
     "execution_count": 26,
     "metadata": {},
     "output_type": "execute_result"
    }
   ],
   "source": [
    "evalPostfix(expr2)"
   ]
  },
  {
   "cell_type": "code",
   "execution_count": 27,
   "metadata": {},
   "outputs": [],
   "source": [
    "# p145 중위표기 >> 후위표기\n",
    "\n",
    "def precedence (op):\n",
    "    if op=='(' or op==')': return 0\n",
    "    elif op=='+' or op=='-': return 1\n",
    "    elif op=='*' or op=='/': return 2\n",
    "    else: return -1"
   ]
  },
  {
   "cell_type": "code",
   "execution_count": 28,
   "metadata": {},
   "outputs": [],
   "source": [
    "expr = ['8', '/', '2', '-', '3', '+', '(', '3', '*', '2', ')']\n",
    "# 8 2 / 3 - 3 2 * +"
   ]
  },
  {
   "cell_type": "code",
   "execution_count": 29,
   "metadata": {},
   "outputs": [],
   "source": [
    "def Infix2Postfix(expr):\n",
    "    s = Stack()\n",
    "    output = []\n",
    "     \n",
    "    for term in expr:\n",
    "        if term in '(':\n",
    "            s.push('(')\n",
    "        elif term in ')':\n",
    "            while not s.isEmpty():\n",
    "                op = s.pop()\n",
    "                if op == '(': break\n",
    "                else:\n",
    "                    output.append(op)\n",
    "                    \n",
    "        elif term in '+-*/':\n",
    "            while not s.isEmpty():\n",
    "                op = s.peek()\n",
    "                if (precedence(term) <= precedence(op)):\n",
    "                    output.append(op)\n",
    "                    s.pop()\n",
    "                else: break\n",
    "               # 연산자의 우선순위를 체크\n",
    "            s.push(term)\n",
    "        else:\n",
    "            output.append(term)\n",
    "    \n",
    "    while not s.isEmpty():\n",
    "        output.append(s.pop())\n",
    "    \n",
    "    return output"
   ]
  },
  {
   "cell_type": "code",
   "execution_count": 30,
   "metadata": {},
   "outputs": [
    {
     "data": {
      "text/plain": [
       "['8', '2', '/', '3', '-', '3', '2', '*', '+']"
      ]
     },
     "execution_count": 30,
     "metadata": {},
     "output_type": "execute_result"
    }
   ],
   "source": [
    "Infix2Postfix(expr)"
   ]
  },
  {
   "cell_type": "code",
   "execution_count": 46,
   "metadata": {},
   "outputs": [],
   "source": [
    "# p.149  미로찾기와 DFS\n",
    "\n",
    "def isValidPos(x, y):\n",
    "    if x < 0 or y < 0 or x >= MAZE_SIZE or y >= MAZE_SIZE:\n",
    "        return False\n",
    "    else:\n",
    "        return map[y][x] == '0' or map[y][x] == 'x'  # 0 이거나 출구 이니?"
   ]
  },
  {
   "cell_type": "code",
   "execution_count": 51,
   "metadata": {},
   "outputs": [],
   "source": [
    "# p148\n",
    "\n",
    "map = [['1', '1', '1', '1', '1', '1'],\n",
    "       ['e', '0', '0', '0', '0', '1'],\n",
    "       ['1', '0', '1', '0', '1', '1'],\n",
    "       ['1', '1', '1', '0', '0', 'x'],\n",
    "       ['1', '1', '1', '0', '1' ,'1'],\n",
    "       ['1', '1', '1', '1', '1', '1']]\n",
    "MAZE_SIZE = 6"
   ]
  },
  {
   "cell_type": "code",
   "execution_count": 52,
   "metadata": {},
   "outputs": [],
   "source": [
    "# DFS 구현  깊이우선탐색 함수\n",
    "\n",
    "# 소문자 st = Stack()  이렇게 했다고 생각하세요!!!\n",
    "# 그게 훨씬 좋습니다!!  왜냐면  local 에서만 쓰는 거니까!!!\n",
    "# 변수명 정의는 좀 의미가 있어야되요!!!  안 그러면 되게 헷갈려요!!!\n",
    "\n",
    "# Stack 이 위에서 만든, 실제화 되지않은, 클래스예요.\n",
    "# class 가 생겨난 역사는, 객체지향 에서 오거든요!!\n",
    "# 그걸 잘 이해하면, 유지보수 하기 쉬워져요!!\n",
    "# 프로그래밍에 기능을 추가하고 싶은데, 과부화가 걸릴 수 있다.\n",
    "# 그런데 그걸 이건 앞으로 더 많이 공부를 하셔야되요!!! 그걸 하시면 되게 좋아요~~\n",
    "# class = 함수를 같다고 보시면 되요~\n",
    "# class 안의 함수를 메소드라고 부르는데,    class 안에 \n",
    "# 속성 / 기능  \n",
    "# 함수는 속성이 없다. \n",
    "\n",
    "\n",
    "def DFS():\n",
    "    사이다 = Stack()\n",
    "    사이다.push((0, 1))  # (0, 1)은 튜플 tuple.  스택에 튜플도 넣을 수 있음\n",
    "    \n",
    "    print('DFS: ')\n",
    "    \n",
    "    while not 사이다.isEmpty():\n",
    "        here = 사이다.pop()\n",
    "        print(here, end = '->')\n",
    "        (x, y) = here   # (x, y) 라는 로컬 변수에 넣어준다. \n",
    "        \n",
    "        if map[y][x] == 'x':\n",
    "            return True\n",
    "        \n",
    "        else:\n",
    "            map[y][x] = '.'\n",
    "            if isValidPos(x, y-1): 사이다.push((x, y-1))  # 상   # 순서 : 1\n",
    "            if isValidPos(x, y+1): 사이다.push((x, y+1))  # 하   # 순서 : 2\n",
    "            if isValidPos(x-1, y): 사이다.push((x-1, y))  # 좌   # 순서 : 3\n",
    "            if isValidPos(x+1, y): 사이다.push((x+1, y))  # 우   # 순서 : 4   스택은 우선순위 높은게 맨나중에(맨위에) 있어야됨\n",
    "        print(' 현재 스택: ', 사이다)   # 현재 스택 내용 출력  (현재 위치)\n",
    "        \n",
    "        for i in range(MAZE_SIZE):\n",
    "            print(map[i])\n",
    "    return False   # x 에 도착 안했으면 False"
   ]
  },
  {
   "cell_type": "code",
   "execution_count": 49,
   "metadata": {},
   "outputs": [
    {
     "name": "stdout",
     "output_type": "stream",
     "text": [
      "DFS: \n",
      "(0, 1)-> 현재 스택:  [(1, 1)]\n",
      "['1', '1', '1', '1', '1', '1']\n",
      "['.', '0', '0', '0', '0', '1']\n",
      "['1', '0', '1', '0', '1', '1']\n",
      "['1', '1', '1', '0', '0', 'x']\n",
      "['1', '1', '1', '0', '1', '1']\n",
      "['1', '1', '1', '1', '1', '1']\n",
      "(1, 1)-> 현재 스택:  [(2, 1), (1, 2)]\n",
      "['1', '1', '1', '1', '1', '1']\n",
      "['.', '.', '0', '0', '0', '1']\n",
      "['1', '0', '1', '0', '1', '1']\n",
      "['1', '1', '1', '0', '0', 'x']\n",
      "['1', '1', '1', '0', '1', '1']\n",
      "['1', '1', '1', '1', '1', '1']\n",
      "(2, 1)-> 현재 스택:  [(3, 1), (1, 2)]\n",
      "['1', '1', '1', '1', '1', '1']\n",
      "['.', '.', '.', '0', '0', '1']\n",
      "['1', '0', '1', '0', '1', '1']\n",
      "['1', '1', '1', '0', '0', 'x']\n",
      "['1', '1', '1', '0', '1', '1']\n",
      "['1', '1', '1', '1', '1', '1']\n",
      "(3, 1)-> 현재 스택:  [(4, 1), (3, 2), (1, 2)]\n",
      "['1', '1', '1', '1', '1', '1']\n",
      "['.', '.', '.', '.', '0', '1']\n",
      "['1', '0', '1', '0', '1', '1']\n",
      "['1', '1', '1', '0', '0', 'x']\n",
      "['1', '1', '1', '0', '1', '1']\n",
      "['1', '1', '1', '1', '1', '1']\n",
      "(4, 1)-> 현재 스택:  [(3, 2), (1, 2)]\n",
      "['1', '1', '1', '1', '1', '1']\n",
      "['.', '.', '.', '.', '.', '1']\n",
      "['1', '0', '1', '0', '1', '1']\n",
      "['1', '1', '1', '0', '0', 'x']\n",
      "['1', '1', '1', '0', '1', '1']\n",
      "['1', '1', '1', '1', '1', '1']\n",
      "(3, 2)-> 현재 스택:  [(3, 3), (1, 2)]\n",
      "['1', '1', '1', '1', '1', '1']\n",
      "['.', '.', '.', '.', '.', '1']\n",
      "['1', '0', '1', '.', '1', '1']\n",
      "['1', '1', '1', '0', '0', 'x']\n",
      "['1', '1', '1', '0', '1', '1']\n",
      "['1', '1', '1', '1', '1', '1']\n",
      "(3, 3)-> 현재 스택:  [(4, 3), (3, 4), (1, 2)]\n",
      "['1', '1', '1', '1', '1', '1']\n",
      "['.', '.', '.', '.', '.', '1']\n",
      "['1', '0', '1', '.', '1', '1']\n",
      "['1', '1', '1', '.', '0', 'x']\n",
      "['1', '1', '1', '0', '1', '1']\n",
      "['1', '1', '1', '1', '1', '1']\n",
      "(4, 3)-> 현재 스택:  [(5, 3), (3, 4), (1, 2)]\n",
      "['1', '1', '1', '1', '1', '1']\n",
      "['.', '.', '.', '.', '.', '1']\n",
      "['1', '0', '1', '.', '1', '1']\n",
      "['1', '1', '1', '.', '.', 'x']\n",
      "['1', '1', '1', '0', '1', '1']\n",
      "['1', '1', '1', '1', '1', '1']\n",
      "(5, 3)-> --> 미로 탈출 성공! \n"
     ]
    }
   ],
   "source": [
    "result = DFS()\n",
    "if result:    # DFS 의 결과값이 True or False 이므로\n",
    "    print(' --> 미로 탈출 성공! ')\n",
    "else:\n",
    "    print(' --> 미로 탈출 실패.. ')"
   ]
  },
  {
   "cell_type": "code",
   "execution_count": 50,
   "metadata": {},
   "outputs": [
    {
     "name": "stdout",
     "output_type": "stream",
     "text": [
      "[['1', '1', '1', '1', '1', '1'], ['.', '.', '.', '.', '.', '1'], ['1', '0', '1', '.', '1', '1'], ['1', '1', '1', '.', '.', 'x'], ['1', '1', '1', '0', '1', '1'], ['1', '1', '1', '1', '1', '1']]\n"
     ]
    }
   ],
   "source": [
    "print(map)"
   ]
  },
  {
   "cell_type": "code",
   "execution_count": 1,
   "metadata": {},
   "outputs": [
    {
     "data": {
      "text/plain": [
       "0"
      ]
     },
     "execution_count": 1,
     "metadata": {},
     "output_type": "execute_result"
    }
   ],
   "source": [
    "4096 % 2"
   ]
  },
  {
   "cell_type": "code",
   "execution_count": 2,
   "metadata": {},
   "outputs": [
    {
     "data": {
      "text/plain": [
       "2048"
      ]
     },
     "execution_count": 2,
     "metadata": {},
     "output_type": "execute_result"
    }
   ],
   "source": [
    "4096 // 2"
   ]
  },
  {
   "cell_type": "code",
   "execution_count": 5,
   "metadata": {},
   "outputs": [],
   "source": [
    "s = Stack()"
   ]
  },
  {
   "cell_type": "code",
   "execution_count": 6,
   "metadata": {},
   "outputs": [],
   "source": [
    "s.push(0)"
   ]
  },
  {
   "cell_type": "code",
   "execution_count": 7,
   "metadata": {},
   "outputs": [
    {
     "data": {
      "text/plain": [
       "0"
      ]
     },
     "execution_count": 7,
     "metadata": {},
     "output_type": "execute_result"
    }
   ],
   "source": [
    "2048 % 2"
   ]
  },
  {
   "cell_type": "code",
   "execution_count": 8,
   "metadata": {},
   "outputs": [
    {
     "data": {
      "text/plain": [
       "1024"
      ]
     },
     "execution_count": 8,
     "metadata": {},
     "output_type": "execute_result"
    }
   ],
   "source": [
    "2048 // 2"
   ]
  },
  {
   "cell_type": "code",
   "execution_count": 9,
   "metadata": {},
   "outputs": [],
   "source": [
    "s.push(0)"
   ]
  },
  {
   "cell_type": "code",
   "execution_count": 10,
   "metadata": {},
   "outputs": [
    {
     "data": {
      "text/plain": [
       "0"
      ]
     },
     "execution_count": 10,
     "metadata": {},
     "output_type": "execute_result"
    }
   ],
   "source": [
    "1024 % 2"
   ]
  },
  {
   "cell_type": "code",
   "execution_count": 11,
   "metadata": {},
   "outputs": [
    {
     "data": {
      "text/plain": [
       "512"
      ]
     },
     "execution_count": 11,
     "metadata": {},
     "output_type": "execute_result"
    }
   ],
   "source": [
    "1024 // 2"
   ]
  },
  {
   "cell_type": "code",
   "execution_count": 15,
   "metadata": {},
   "outputs": [
    {
     "data": {
      "text/plain": [
       "False"
      ]
     },
     "execution_count": 15,
     "metadata": {},
     "output_type": "execute_result"
    }
   ],
   "source": [
    "64 == 2^6"
   ]
  },
  {
   "cell_type": "code",
   "execution_count": 16,
   "metadata": {},
   "outputs": [
    {
     "data": {
      "text/plain": [
       "False"
      ]
     },
     "execution_count": 16,
     "metadata": {},
     "output_type": "execute_result"
    }
   ],
   "source": [
    "512 == 2^9"
   ]
  },
  {
   "cell_type": "code",
   "execution_count": 18,
   "metadata": {},
   "outputs": [
    {
     "data": {
      "text/plain": [
       "False"
      ]
     },
     "execution_count": 18,
     "metadata": {},
     "output_type": "execute_result"
    }
   ],
   "source": [
    "1024 == 2^10"
   ]
  },
  {
   "cell_type": "code",
   "execution_count": 19,
   "metadata": {},
   "outputs": [
    {
     "data": {
      "text/plain": [
       "False"
      ]
     },
     "execution_count": 19,
     "metadata": {},
     "output_type": "execute_result"
    }
   ],
   "source": [
    "4096 == 2^12  "
   ]
  },
  {
   "cell_type": "code",
   "execution_count": 23,
   "metadata": {},
   "outputs": [
    {
     "name": "stdout",
     "output_type": "stream",
     "text": [
      "[0]\n",
      "[3, 0]\n",
      "[0]\n",
      "[6, 0]\n",
      "[0]\n",
      "[9, 0]\n",
      "[12, 9, 0]\n",
      "[15, 12, 9, 0]\n",
      "[12, 9, 0]\n",
      "[18, 12, 9, 0]\n"
     ]
    }
   ],
   "source": [
    "# 4.13\n",
    "values = Stack()\n",
    "for i in range(20):\n",
    "    if i % 3 == 0:\n",
    "        values.push(i)\n",
    "        print(values)\n",
    "    elif i % 4 == 0:\n",
    "        values.pop()\n",
    "        print(values)"
   ]
  },
  {
   "cell_type": "code",
   "execution_count": 25,
   "metadata": {},
   "outputs": [
    {
     "name": "stdout",
     "output_type": "stream",
     "text": [
      "[18, 12, 9, 0]\n"
     ]
    },
    {
     "data": {
      "text/plain": [
       "[0, 9, 12, 18]"
      ]
     },
     "execution_count": 25,
     "metadata": {},
     "output_type": "execute_result"
    }
   ],
   "source": [
    "print(values)\n",
    "values.top"
   ]
  },
  {
   "cell_type": "code",
   "execution_count": null,
   "metadata": {},
   "outputs": [],
   "source": [
    "# 4.16"
   ]
  }
 ],
 "metadata": {
  "kernelspec": {
   "display_name": "Python 3",
   "language": "python",
   "name": "python3"
  },
  "language_info": {
   "codemirror_mode": {
    "name": "ipython",
    "version": 3
   },
   "file_extension": ".py",
   "mimetype": "text/x-python",
   "name": "python",
   "nbconvert_exporter": "python",
   "pygments_lexer": "ipython3",
   "version": "3.8.5"
  }
 },
 "nbformat": 4,
 "nbformat_minor": 4
}
