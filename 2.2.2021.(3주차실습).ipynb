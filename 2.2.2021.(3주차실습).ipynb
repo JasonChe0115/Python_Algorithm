{
 "cells": [
  {
   "cell_type": "markdown",
   "metadata": {},
   "source": [
    "## 프로그래밍2 3주차 리스트/ 집합(set)\n",
    "\n",
    "###  3.1. list ADT\n",
    "- list()\n",
    "- insert(pos, e)\n",
    "- delete(pos)\n",
    "- isEmpty()\n",
    "- getEmpty(pos)\n",
    "- size()\n",
    "- clear()\n",
    "- find(item)\n",
    "- replace(pos, item)\n",
    "- sort()\n",
    "- merge(lst)\n",
    "- display()\n",
    "- append(e)\n",
    "\n",
    "### 이제 이것을 구현해 볼겁니다~"
   ]
  },
  {
   "cell_type": "code",
   "execution_count": null,
   "metadata": {},
   "outputs": [],
   "source": [
    "items = []\n",
    "\n",
    "def insert(pos, e):\n",
    "    items.insert(pos, e)\n",
    "    \n",
    "def delete(pos):\n",
    "    return items.pop(pos)\n",
    "\n",
    "def getEntry(pos):\n",
    "    return items[pos]\n",
    "\n",
    "def isEmpty():\n",
    "    if len(items) == 0:\n",
    "        return True\n",
    "    else:\n",
    "        return False\n",
    "#def isEmpty(): return len(items) == 0\n",
    "\n",
    "def size():\n",
    "    return len(items)\n",
    "\n",
    "def clear():\n",
    "    global items\n",
    "    items = []\n",
    "\n",
    "def find(item):\n",
    "    return items.index(item)\n",
    "\n",
    "def replace(pos, e):\n",
    "    items[pos] = e\n",
    "\n",
    "def sort():\n",
    "    items.sort()\n",
    "\n",
    "def merge(lst):\n",
    "    items.extend(lst)\n",
    "    \n",
    "def display(msg=\"ArrayList:\"):\n",
    "    print(msg, size(), items)"
   ]
  },
  {
   "cell_type": "code",
   "execution_count": null,
   "metadata": {},
   "outputs": [],
   "source": [
    "items = list(range(0, 10))"
   ]
  },
  {
   "cell_type": "code",
   "execution_count": null,
   "metadata": {},
   "outputs": [],
   "source": [
    "items"
   ]
  },
  {
   "cell_type": "code",
   "execution_count": null,
   "metadata": {},
   "outputs": [],
   "source": [
    "type(items)"
   ]
  },
  {
   "cell_type": "code",
   "execution_count": null,
   "metadata": {},
   "outputs": [],
   "source": [
    "display()"
   ]
  },
  {
   "cell_type": "code",
   "execution_count": null,
   "metadata": {},
   "outputs": [],
   "source": [
    "merge([10, 11, 12])"
   ]
  },
  {
   "cell_type": "code",
   "execution_count": null,
   "metadata": {},
   "outputs": [],
   "source": [
    "display()"
   ]
  },
  {
   "cell_type": "code",
   "execution_count": null,
   "metadata": {},
   "outputs": [],
   "source": [
    "sort()"
   ]
  },
  {
   "cell_type": "code",
   "execution_count": null,
   "metadata": {},
   "outputs": [],
   "source": [
    "display()"
   ]
  },
  {
   "cell_type": "code",
   "execution_count": null,
   "metadata": {},
   "outputs": [],
   "source": [
    "find(5)"
   ]
  },
  {
   "cell_type": "code",
   "execution_count": null,
   "metadata": {},
   "outputs": [],
   "source": [
    "clear()"
   ]
  },
  {
   "cell_type": "code",
   "execution_count": null,
   "metadata": {},
   "outputs": [],
   "source": [
    "display()"
   ]
  },
  {
   "cell_type": "code",
   "execution_count": null,
   "metadata": {},
   "outputs": [],
   "source": [
    "class ArrayList:\n",
    "    def __init__(self):\n",
    "        self.items = []\n",
    "        \n",
    "    def insert(self, pos, e):\n",
    "        self.items.insert(pos, e)\n",
    "\n",
    "    def delete(self, pos):\n",
    "        return self.items.pop(pos)\n",
    "\n",
    "    def getEntry(self, pos):\n",
    "        return self.items[pos]\n",
    "\n",
    "    def isEmpty(self):\n",
    "        if len(self.items) == 0:\n",
    "            return True\n",
    "        else:\n",
    "            return False\n",
    "    #def isEmpty(): return len(items) == 0\n",
    "\n",
    "    def size(self):\n",
    "        return len(self.items)\n",
    "\n",
    "    def clear(self):\n",
    "        self.items = []\n",
    "\n",
    "    def find(self, item):\n",
    "        return self.items.index(item)\n",
    "\n",
    "    def replace(self, pos, e):\n",
    "        self.items[pos] = e\n",
    "\n",
    "    def sort(self):\n",
    "        self.items.sort()\n",
    "\n",
    "    def merge(self, lst):\n",
    "        self.items.extend(lst)\n",
    "\n",
    "    def display(self, msg=\"ArrayList:\"):\n",
    "        print(msg, self.size(), self.items)\n"
   ]
  },
  {
   "cell_type": "code",
   "execution_count": null,
   "metadata": {},
   "outputs": [],
   "source": [
    "s = ArrayList()"
   ]
  },
  {
   "cell_type": "code",
   "execution_count": null,
   "metadata": {},
   "outputs": [],
   "source": [
    "s.display()"
   ]
  },
  {
   "cell_type": "code",
   "execution_count": null,
   "metadata": {},
   "outputs": [],
   "source": [
    "s.insert(0, 10)"
   ]
  },
  {
   "cell_type": "code",
   "execution_count": null,
   "metadata": {},
   "outputs": [],
   "source": [
    "s.display()"
   ]
  },
  {
   "cell_type": "code",
   "execution_count": null,
   "metadata": {},
   "outputs": [],
   "source": [
    "s.insert(1, 50)"
   ]
  },
  {
   "cell_type": "code",
   "execution_count": null,
   "metadata": {},
   "outputs": [],
   "source": [
    "s.insert(2, 70); s.insert(3, 40)"
   ]
  },
  {
   "cell_type": "code",
   "execution_count": null,
   "metadata": {},
   "outputs": [],
   "source": [
    "s.display()"
   ]
  },
  {
   "cell_type": "code",
   "execution_count": null,
   "metadata": {},
   "outputs": [],
   "source": [
    "s.sort()\n",
    "s.display()"
   ]
  },
  {
   "cell_type": "code",
   "execution_count": null,
   "metadata": {},
   "outputs": [],
   "source": [
    "s.merge([4, 8, 9])"
   ]
  },
  {
   "cell_type": "code",
   "execution_count": null,
   "metadata": {},
   "outputs": [],
   "source": [
    "s.display()"
   ]
  },
  {
   "cell_type": "code",
   "execution_count": null,
   "metadata": {},
   "outputs": [],
   "source": [
    "s.clear()"
   ]
  },
  {
   "cell_type": "code",
   "execution_count": null,
   "metadata": {},
   "outputs": [],
   "source": [
    "s.display()"
   ]
  },
  {
   "cell_type": "code",
   "execution_count": null,
   "metadata": {},
   "outputs": [],
   "source": [
    "# 아주, 바닥부터 구현한 건 아닙니다."
   ]
  },
  {
   "cell_type": "code",
   "execution_count": null,
   "metadata": {},
   "outputs": [],
   "source": [
    "# p108"
   ]
  },
  {
   "cell_type": "code",
   "execution_count": null,
   "metadata": {},
   "outputs": [],
   "source": [
    "def myLineEditor():\n",
    "    lst = ArrayList()\n",
    "    while True:\n",
    "        command = input('메뉴 선택 i:입력, d;삭제, r:변경, p:출력, l:파일읽기, s:저장, q:종료')\n",
    "    \n",
    "        if command == 'i':\n",
    "            # insert (pos, e)    pos = position\n",
    "            pos = int(input(\"위치를 입력하세요.\"))\n",
    "            e = input('입력할 내용은?')\n",
    "            lst.insert(pos, e)\n",
    "\n",
    "        elif command == 'd':\n",
    "            pos = int(input('삭제할 위치는?'))\n",
    "            lst.delete(pos)\n",
    "\n",
    "        elif command == 'r':\n",
    "            pos = int(input('변경할 위치는?'))\n",
    "            e = input('변경할 내용은?')\n",
    "            lst.replace(pos, e)\n",
    "\n",
    "        elif command == 'p':\n",
    "            print('Line Editor')\n",
    "            for pos in range(lst.size()):\n",
    "                print('%2d : '%pos, end='')\n",
    "                print(lst.getEntry(pos))\n",
    "            print()\n",
    "\n",
    "        elif command == 'l':\n",
    "            filename = 'test.txt'\n",
    "            infile = open(filename, \"r\")\n",
    "            lines = infile.readlines()\n",
    "            for line in lines:\n",
    "                lst.insert(lst.size(), line.rstrip('\\n'))\n",
    "            infile.close()\n",
    "\n",
    "        elif command == 's':\n",
    "            filename = 'test.txt'\n",
    "            outfile = open(filename, \"w\")\n",
    "            for i in range(lst.size()):\n",
    "                outfile.write(lst.getEntry(i)+'\\n')\n",
    "            outfile.close()\n",
    "\n",
    "        elif command == 'q':\n",
    "            return\n",
    "\n",
    "        else:\n",
    "            print('잘못 누르셨습니다.')"
   ]
  },
  {
   "cell_type": "code",
   "execution_count": 91,
   "metadata": {},
   "outputs": [
    {
     "name": "stdout",
     "output_type": "stream",
     "text": [
      "메뉴 선택 i:입력, d;삭제, r:변경, p:출력, l:파일읽기, s:저장, q:종료i\n",
      "위치를 입력하세요.0\n",
      "입력할 내용은?900\n",
      "메뉴 선택 i:입력, d;삭제, r:변경, p:출력, l:파일읽기, s:저장, q:종료i\n",
      "위치를 입력하세요.1\n",
      "입력할 내용은?300\n",
      "메뉴 선택 i:입력, d;삭제, r:변경, p:출력, l:파일읽기, s:저장, q:종료i\n",
      "위치를 입력하세요.2\n",
      "입력할 내용은?400\n",
      "메뉴 선택 i:입력, d;삭제, r:변경, p:출력, l:파일읽기, s:저장, q:종료p\n",
      "Line Editor\n",
      " 0 : 900\n",
      " 1 : 300\n",
      " 2 : 400\n",
      "\n",
      "메뉴 선택 i:입력, d;삭제, r:변경, p:출력, l:파일읽기, s:저장, q:종료s\n",
      "메뉴 선택 i:입력, d;삭제, r:변경, p:출력, l:파일읽기, s:저장, q:종료i\n",
      "위치를 입력하세요.3\n",
      "입력할 내용은?1500\n",
      "메뉴 선택 i:입력, d;삭제, r:변경, p:출력, l:파일읽기, s:저장, q:종료l\n",
      "메뉴 선택 i:입력, d;삭제, r:변경, p:출력, l:파일읽기, s:저장, q:종료p\n",
      "Line Editor\n",
      " 0 : 900\n",
      " 1 : 300\n",
      " 2 : 400\n",
      " 3 : 1500\n",
      " 4 : 900\n",
      " 5 : 300\n",
      " 6 : 400\n",
      "\n",
      "메뉴 선택 i:입력, d;삭제, r:변경, p:출력, l:파일읽기, s:저장, q:종료l\n",
      "메뉴 선택 i:입력, d;삭제, r:변경, p:출력, l:파일읽기, s:저장, q:종료l\n",
      "메뉴 선택 i:입력, d;삭제, r:변경, p:출력, l:파일읽기, s:저장, q:종료p\n",
      "Line Editor\n",
      " 0 : 900\n",
      " 1 : 300\n",
      " 2 : 400\n",
      " 3 : 1500\n",
      " 4 : 900\n",
      " 5 : 300\n",
      " 6 : 400\n",
      " 7 : 900\n",
      " 8 : 300\n",
      " 9 : 400\n",
      "10 : 900\n",
      "11 : 300\n",
      "12 : 400\n",
      "\n",
      "메뉴 선택 i:입력, d;삭제, r:변경, p:출력, l:파일읽기, s:저장, q:종료s\n",
      "메뉴 선택 i:입력, d;삭제, r:변경, p:출력, l:파일읽기, s:저장, q:종료p\n",
      "Line Editor\n",
      " 0 : 900\n",
      " 1 : 300\n",
      " 2 : 400\n",
      " 3 : 1500\n",
      " 4 : 900\n",
      " 5 : 300\n",
      " 6 : 400\n",
      " 7 : 900\n",
      " 8 : 300\n",
      " 9 : 400\n",
      "10 : 900\n",
      "11 : 300\n",
      "12 : 400\n",
      "\n",
      "메뉴 선택 i:입력, d;삭제, r:변경, p:출력, l:파일읽기, s:저장, q:종료q\n"
     ]
    }
   ],
   "source": [
    "myLineEditor()"
   ]
  },
  {
   "cell_type": "code",
   "execution_count": null,
   "metadata": {},
   "outputs": [],
   "source": []
  },
  {
   "cell_type": "code",
   "execution_count": null,
   "metadata": {},
   "outputs": [],
   "source": []
  }
 ],
 "metadata": {
  "celltoolbar": "Tags",
  "kernelspec": {
   "display_name": "Python 3",
   "language": "python",
   "name": "python3"
  },
  "language_info": {
   "codemirror_mode": {
    "name": "ipython",
    "version": 3
   },
   "file_extension": ".py",
   "mimetype": "text/x-python",
   "name": "python",
   "nbconvert_exporter": "python",
   "pygments_lexer": "ipython3",
   "version": "3.8.5"
  }
 },
 "nbformat": 4,
 "nbformat_minor": 4
}
