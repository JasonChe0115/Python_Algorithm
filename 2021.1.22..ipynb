{
 "cells": [
  {
   "cell_type": "code",
   "execution_count": 80,
   "metadata": {},
   "outputs": [
    {
     "name": "stdout",
     "output_type": "stream",
     "text": [
      "['e', 1, 2, 3, 4]\n"
     ]
    }
   ],
   "source": [
    "# def insert(bag, e):\n",
    "#     bag.insert(0, e)\n",
    "\n",
    "bag = [1,2,3,4]\n",
    "insert(bag, 'e')\n",
    "print(bag)"
   ]
  },
  {
   "cell_type": "code",
   "execution_count": 81,
   "metadata": {},
   "outputs": [
    {
     "name": "stdout",
     "output_type": "stream",
     "text": [
      "['e', 1, 2, 3, 4]\n"
     ]
    }
   ],
   "source": [
    "bag = [1,2,3,4]\n",
    "insert(bag, 'e')\n",
    "print(bag)"
   ]
  },
  {
   "cell_type": "code",
   "execution_count": 53,
   "metadata": {},
   "outputs": [],
   "source": [
    "A = [1,2,3,4,56,90]\n",
    "def find_max(A):\n",
    "    tmp = A[0]\n",
    "    for item in A:\n",
    "        if item > tmp:\n",
    "            tmp = item\n",
    "    return tmp\n",
    "    print(tmp)"
   ]
  },
  {
   "cell_type": "code",
   "execution_count": 87,
   "metadata": {},
   "outputs": [
    {
     "name": "stdout",
     "output_type": "stream",
     "text": [
      "가방속의 물건: ['휴대폰', '지갑', '손수건', '빗', '자료구조', '야구공']\n",
      "가방속의 물건: ['휴대폰', '지갑', '빗', '자료구조', '야구공', '빗']\n"
     ]
    }
   ],
   "source": [
    "def insert(bag, e):\n",
    "    bag.append(e)\n",
    "def remove(bag, e):\n",
    "    bag.remove(e)\n",
    "\n",
    "myBag =[]\n",
    "insert(myBag, '휴대폰')\n",
    "insert(myBag, '지갑')\n",
    "insert(myBag, '손수건')\n",
    "insert(myBag, '빗')\n",
    "insert(myBag, '자료구조')\n",
    "insert(myBag, '야구공')\n",
    "print('가방속의 물건:', myBag)\n",
    "\n",
    "insert(myBag, '빗')\n",
    "remove(myBag, '손수건')\n",
    "print('가방속의 물건:', myBag)\n"
   ]
  },
  {
   "cell_type": "code",
   "execution_count": 82,
   "metadata": {},
   "outputs": [
    {
     "name": "stdout",
     "output_type": "stream",
     "text": [
      "가방속의 물건: ['휴대폰', '지갑', '손수건', '빗', '자료구조', '야구공']\n"
     ]
    }
   ],
   "source": [
    "def append(bag, e):\n",
    "    bag.append(e)\n",
    "\n",
    "myBag =[]\n",
    "append(myBag, '휴대폰')\n",
    "append(myBag, '지갑')\n",
    "append(myBag, '손수건')\n",
    "append(myBag, '빗')\n",
    "append(myBag, '자료구조')\n",
    "append(myBag, '야구공')\n",
    "print('가방속의 물건:', myBag)"
   ]
  }
 ],
 "metadata": {
  "kernelspec": {
   "display_name": "Python 3",
   "language": "python",
   "name": "python3"
  },
  "language_info": {
   "codemirror_mode": {
    "name": "ipython",
    "version": 3
   },
   "file_extension": ".py",
   "mimetype": "text/x-python",
   "name": "python",
   "nbconvert_exporter": "python",
   "pygments_lexer": "ipython3",
   "version": "3.8.5"
  }
 },
 "nbformat": 4,
 "nbformat_minor": 4
}
