{
 "cells": [
  {
   "cell_type": "code",
   "execution_count": 6,
   "metadata": {},
   "outputs": [
    {
     "name": "stdout",
     "output_type": "stream",
     "text": [
      "야옹 야옹~~\n",
      "야옹 야옹~~\n"
     ]
    }
   ],
   "source": [
    "class Cat:\n",
    "    def meow(self):\n",
    "        print(\"야옹 야옹~~\")\n",
    "\n",
    "cat1 = Cat()\n",
    "cat1.meow()\n",
    "cat2 = Cat()\n",
    "cat2.meow()\n",
    "cat3 = Cat() "
   ]
  },
  {
   "cell_type": "code",
   "execution_count": 37,
   "metadata": {},
   "outputs": [
    {
     "name": "stdout",
     "output_type": "stream",
     "text": [
      "고양이 이름은 나비 색깔은 검정색\n"
     ]
    }
   ],
   "source": [
    "class Cat:\n",
    "    def info(self):\n",
    "        self.name = \"나비\"\n",
    "        self.color = \"검정색\"\n",
    "        print(\"고양이 이름은\", self.name, '색깔은', self.color)\n",
    "\n",
    "cat1 = Cat()\n",
    "cat1.info()"
   ]
  },
  {
   "cell_type": "code",
   "execution_count": 177,
   "metadata": {},
   "outputs": [
    {
     "name": "stdout",
     "output_type": "stream",
     "text": [
      "고양이 이름은 네로 , 색깔은 검정색 , 성격은 짜증이 많은\n",
      "고양이 이름은 미미 , 색깔은 갈색 , 성격은 해피해피한\n"
     ]
    }
   ],
   "source": [
    "class Cat:  # 초기화 메소드\n",
    "    def __init__(self, name=\"나비\", color=\"흰색\", personality=\"온순한\"):\n",
    "        self.name = name\n",
    "        self.color = color\n",
    "        self.personality = personality\n",
    "    def info(self):   # 고양이 클래스의 정보를 출력하는 메소드\n",
    "        print('고양이 이름은', self.name, ', 색깔은', self.color, ', 성격은' ,self.personality)\n",
    "        \n",
    "cat1 = Cat(\"네로\", \"검정색\", \"짜증이 많은\")   # cat1 인스턴스 생성\n",
    "cat2 = Cat(\"미미\", \"갈색\", \"해피해피한\")   # cat2 인스턴스 생성\n",
    "\n",
    "\n",
    "cat1.info()\n",
    "cat2.info()"
   ]
  },
  {
   "cell_type": "code",
   "execution_count": 182,
   "metadata": {},
   "outputs": [
    {
     "name": "stdout",
     "output_type": "stream",
     "text": [
      "이름 :  수지  나이 :  23\n",
      "수지 를 호출합니다.\n",
      "이름 :  수지  나이 :  23\n",
      "수지 를 호출합니다.\n"
     ]
    }
   ],
   "source": [
    "class Human:\n",
    "    def __init__(self, name, age):\n",
    "        self.name = name\n",
    "        self.age = age\n",
    "    \n",
    "    def info(self):\n",
    "        print(\"이름 : \", self.name, \" 나이 : \", self.age)\n",
    "        \n",
    "    def call(self):\n",
    "        print(self.name, \"를 호출합니다.\")\n",
    "        \n",
    "person = Human(\"수지\", 23)\n",
    "person.info()\n",
    "person.call()\n",
    "guy = Human(\"홍길동\", 27)\n",
    "person.info()\n",
    "person.call()"
   ]
  },
  {
   "cell_type": "code",
   "execution_count": 187,
   "metadata": {},
   "outputs": [
    {
     "name": "stdout",
     "output_type": "stream",
     "text": [
      "영희(몸무게 44kg)\n",
      "민수(몸무게 68kg)\n"
     ]
    }
   ],
   "source": [
    "# 특수 메소드\n",
    "class Human:\n",
    "    def __init__(self, name, weight):\n",
    "        self.name = name\n",
    "        self.weight = weight\n",
    "    \n",
    "    def __str__(self):\n",
    "        return \"{}(몸무게 {}kg)\".format(self.name, self.weight)\n",
    "    \n",
    "person1 = Human('영희', '44')\n",
    "print(person1)\n",
    "person2 = Human('민수', '68')\n",
    "print(person2)"
   ]
  },
  {
   "cell_type": "code",
   "execution_count": 16,
   "metadata": {},
   "outputs": [
    {
     "name": "stdout",
     "output_type": "stream",
     "text": [
      "[-500, 1, 2, 3, 56, 78, 99, 101, 70, 1]\n"
     ]
    }
   ],
   "source": [
    "A = [1,2,3,56,78, 99, 101]\n",
    "A.append(70)\n",
    "A.append(1)\n",
    "A.insert(0,-500)\n",
    "print(A)"
   ]
  },
  {
   "cell_type": "code",
   "execution_count": null,
   "metadata": {},
   "outputs": [],
   "source": [
    " "
   ]
  }
 ],
 "metadata": {
  "kernelspec": {
   "display_name": "Python 3",
   "language": "python",
   "name": "python3"
  },
  "language_info": {
   "codemirror_mode": {
    "name": "ipython",
    "version": 3
   },
   "file_extension": ".py",
   "mimetype": "text/x-python",
   "name": "python",
   "nbconvert_exporter": "python",
   "pygments_lexer": "ipython3",
   "version": "3.8.5"
  }
 },
 "nbformat": 4,
 "nbformat_minor": 4
}
