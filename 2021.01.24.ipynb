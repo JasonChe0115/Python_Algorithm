{
 "cells": [
  {
   "cell_type": "code",
   "execution_count": 9,
   "metadata": {},
   "outputs": [
    {
     "name": "stdout",
     "output_type": "stream",
     "text": [
      "{'김연아': '피겨', '류현진': '야구', '쿠드롱': '당구', '메시': '축구'}\n",
      "쿠드롱이 뭐하는 사람이지?  당구\n",
      "당구 세계 챔피언이 누구지?  쿠드롱\n"
     ]
    }
   ],
   "source": [
    "map = {'김연아':'피겨', '류현진':'야구', '쿠드롱':'당구', '메시':'축구'}\n",
    "print(map)\n",
    "print('쿠드롱이 뭐하는 사람이지? ', map['쿠드롱'])\n",
    "print('당구 세계 챔피언이 누구지? ', '쿠드롱')"
   ]
  },
  {
   "cell_type": "code",
   "execution_count": 17,
   "metadata": {},
   "outputs": [
    {
     "name": "stdout",
     "output_type": "stream",
     "text": [
      "{'김연아': '피겨', '류현진': '야구', '쿠드롱': '당구', '메시': '축구', '나달': '테니스', '최민영': '여자야구', '고진영': '골프'}\n",
      "피겨\n"
     ]
    }
   ],
   "source": [
    "map['나달'] = '테니스'\n",
    "map.update({'최민영':'여자야구', '고진영':'골프'})\n",
    "print(map)\n",
    "print(map['김연아'])"
   ]
  },
  {
   "cell_type": "code",
   "execution_count": 29,
   "metadata": {},
   "outputs": [
    {
     "name": "stdout",
     "output_type": "stream",
     "text": [
      "s1합집합s2 = {1, 2, 3, 4, 5}\n",
      "s1교집합s2 = {2, 3}\n",
      "s1 - s2 = {1}\n",
      "s2 - s1 = {4, 5}\n"
     ]
    }
   ],
   "source": [
    "s1 = {1,2,3}\n",
    "s2 = {2,3,4,5}\n",
    "s3 = s1.union(s2)   # union 합집합\n",
    "print(\"s1합집합s2 =\", s3)\n",
    "s4 = s1.intersection(s2)   # intersection  교집합\n",
    "print(\"s1교집합s2 =\", s4)\n",
    "s5 = s1 - s2    # 차집합\\\n",
    "print(\"s1 - s2 =\",s5)\n",
    "s6 = s2 - s1\n",
    "print(\"s2 - s1 =\",s6)\n",
    "\n"
   ]
  },
  {
   "cell_type": "code",
   "execution_count": null,
   "metadata": {},
   "outputs": [],
   "source": [
    "def"
   ]
  }
 ],
 "metadata": {
  "kernelspec": {
   "display_name": "Python 3",
   "language": "python",
   "name": "python3"
  },
  "language_info": {
   "codemirror_mode": {
    "name": "ipython",
    "version": 3
   },
   "file_extension": ".py",
   "mimetype": "text/x-python",
   "name": "python",
   "nbconvert_exporter": "python",
   "pygments_lexer": "ipython3",
   "version": "3.8.5"
  }
 },
 "nbformat": 4,
 "nbformat_minor": 4
}
