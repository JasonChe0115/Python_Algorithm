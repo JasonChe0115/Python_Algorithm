{
 "cells": [
  {
   "cell_type": "code",
   "execution_count": 2,
   "metadata": {},
   "outputs": [
    {
     "name": "stdout",
     "output_type": "stream",
     "text": [
      "2  5  8  11 14 11 8  5  2  \n",
      "   2  5  8  11 8  5  2  \n",
      "      2  5  8  5  2  \n",
      "         2  5  2  \n",
      "            2  \n",
      "            2  \n",
      "         2  5  2  \n",
      "      2  5  8  5  2  \n",
      "   2  5  8  11 8  5  2  \n",
      "2  5  8  11 14 11 8  5  2  \n"
     ]
    }
   ],
   "source": [
    "odd=9\n",
    "space=0\n",
    "\n",
    "for i in range(1, 6):\n",
    "    k=-1\n",
    "    for j in range(1, space+1):\n",
    "        print(\"  \", end=\" \")\n",
    "    for j in range(1, odd+1):\n",
    "        if(j<=6-i):\n",
    "            k=k+3\n",
    "        else:\n",
    "            k=k-3\n",
    "        if k>10:\n",
    "            print(k, end=\" \")\n",
    "        else :\n",
    "            print(str(k)+\" \", end=\" \")\n",
    "    print()\n",
    "    odd=odd-2\n",
    "    space=space+1\n",
    "\n",
    "odd=1\n",
    "space=4\n",
    "\n",
    "for i in range(1, 6):\n",
    "    k=-1\n",
    "    for j in range(1, space+1):\n",
    "        print(\"  \", end=\" \")\n",
    "    for j in range(1, odd+1):\n",
    "        if(j<=i):\n",
    "            k=k+3\n",
    "        else:\n",
    "            k=k-3\n",
    "        if k>10:\n",
    "            print(k, end=\" \")\n",
    "        else :\n",
    "            print(str(k)+\" \", end=\" \")\n",
    "    print()\n",
    "    odd=odd+2\n",
    "    space=space-1"
   ]
  },
  {
   "cell_type": "code",
   "execution_count": 15,
   "metadata": {},
   "outputs": [
    {
     "name": "stdout",
     "output_type": "stream",
     "text": [
      "   1\n",
      "  123\n",
      " 12345\n",
      "1234567\n"
     ]
    }
   ],
   "source": [
    "def pyramid1():\n",
    "    odd = 1\n",
    "    space = 3\n",
    "    for i in range(1,5):\n",
    "        k = 0\n",
    "        for j in range(1, space+1):\n",
    "            print(\" \", end=\"\")\n",
    "        for j in range(1, odd+1):\n",
    "            if (j<=i):\n",
    "                k = k+1\n",
    "            else:\n",
    "                k = k+1\n",
    "            print(k, end=\"\")\n",
    "        print()\n",
    "        odd = odd+2\n",
    "        space=space-1\n",
    "\n",
    "    \n",
    "pyramid()"
   ]
  },
  {
   "cell_type": "code",
   "execution_count": 16,
   "metadata": {},
   "outputs": [
    {
     "name": "stdout",
     "output_type": "stream",
     "text": [
      "   1\n",
      "  121\n",
      " 12321\n",
      "1234321\n"
     ]
    }
   ],
   "source": [
    "def pyramid2():\n",
    "    odd = 1\n",
    "    space = 3\n",
    "    for i in range(1, 5):\n",
    "        k=0\n",
    "        for j in range(1, space+1):\n",
    "            print(\" \", end=\"\")\n",
    "        for j in range(1, odd+1):\n",
    "            if (j<=i):\n",
    "                k=k+1\n",
    "            else:\n",
    "                k=k-1\n",
    "            print(k, end=\"\")\n",
    "        print()\n",
    "        odd = odd+2\n",
    "        space = space-1\n",
    "\n",
    "pyramid2()"
   ]
  },
  {
   "cell_type": "code",
   "execution_count": 21,
   "metadata": {},
   "outputs": [
    {
     "name": "stdout",
     "output_type": "stream",
     "text": [
      "Input number : 6\n",
      "                    1\n",
      "                 2  3  4\n",
      "              5  6  7  8  9\n",
      "          10 11 12 13 14 15 16\n",
      "       17 18 19 20 21 22 23 24 25\n",
      "    26 27 28 29 30 31 32 33 34 35 36\n"
     ]
    }
   ],
   "source": [
    "x = int(input(\"Input number : \"))\n",
    "k = 1\n",
    "for i in range(1, x+1):\n",
    "    for j in range(x+1-i):\n",
    "        print(\"   \", end=\"\")\n",
    "    for j in range(2*i-1):\n",
    "        print(\"%3d\" %k, end=\"\")\n",
    "        k += 1\n",
    "    print()"
   ]
  },
  {
   "cell_type": "code",
   "execution_count": 24,
   "metadata": {},
   "outputs": [],
   "source": [
    "def pyramid():\n",
    "    x = int(input(\"피라미드 높이를 입력하세요 : \"))   # 7 입력.  7층\n",
    "\n",
    "    for i in range(1, x+1):    # (1, 8)  1~7까지\n",
    "        k = 1\n",
    "        for j in range(x+1-i):   # (8-i)  \n",
    "            print(\"   \", end=\"\")\n",
    "        for j in range(i):       # (i)\n",
    "            print(\"%3d\" % k, end=\"\")\n",
    "            k += 2\n",
    "        k -= 2\n",
    "        for j in range(i-1):\n",
    "            k -= 2\n",
    "            print(\"%3d\" % k, end=\"\")\n",
    "\n",
    "        print()\n"
   ]
  },
  {
   "cell_type": "code",
   "execution_count": null,
   "metadata": {},
   "outputs": [],
   "source": [
    "pyramid()"
   ]
  },
  {
   "cell_type": "code",
   "execution_count": null,
   "metadata": {},
   "outputs": [],
   "source": []
  }
 ],
 "metadata": {
  "kernelspec": {
   "display_name": "Python 3",
   "language": "python",
   "name": "python3"
  },
  "language_info": {
   "codemirror_mode": {
    "name": "ipython",
    "version": 3
   },
   "file_extension": ".py",
   "mimetype": "text/x-python",
   "name": "python",
   "nbconvert_exporter": "python",
   "pygments_lexer": "ipython3",
   "version": "3.8.5"
  }
 },
 "nbformat": 4,
 "nbformat_minor": 4
}
