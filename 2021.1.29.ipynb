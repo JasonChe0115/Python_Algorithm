{
 "cells": [
  {
   "cell_type": "code",
   "execution_count": 6,
   "metadata": {},
   "outputs": [
    {
     "name": "stdout",
     "output_type": "stream",
     "text": [
      "A의 값 =  12\n",
      "A의 값 =  33\n",
      "A의 값 =  424\n",
      "A의 값 =  1423\n",
      "A의 값 =  4233333\n"
     ]
    }
   ],
   "source": [
    "A = [12, 33, 424, 1423, 4233333]\n",
    "\n",
    "for i in list(A):\n",
    "    print(\"A의 값 = \", i)"
   ]
  },
  {
   "cell_type": "code",
   "execution_count": 9,
   "metadata": {},
   "outputs": [
    {
     "name": "stdout",
     "output_type": "stream",
     "text": [
      "값 =  G\n",
      "값 =  a\n",
      "값 =  m\n",
      "값 =  e\n",
      "값 =   \n",
      "값 =  O\n",
      "값 =  v\n",
      "값 =  e\n",
      "값 =  r\n",
      "값 =   \n",
      "값 =  !\n"
     ]
    }
   ],
   "source": [
    "for i in \"Game Over !\":\n",
    "    print(\"값 = \", i)"
   ]
  },
  {
   "cell_type": "code",
   "execution_count": 11,
   "metadata": {},
   "outputs": [
    {
     "name": "stdout",
     "output_type": "stream",
     "text": [
      "값 = 33\n",
      "값 = 99\n",
      "값 = 12\n",
      "값 = 52\n",
      "값 = 26\n"
     ]
    }
   ],
   "source": [
    "mySet = set([12, 33, 52, 26, 99])\n",
    "for i in mySet:\n",
    "    print(\"값 =\", i)"
   ]
  },
  {
   "cell_type": "code",
   "execution_count": 1,
   "metadata": {},
   "outputs": [],
   "source": [
    "# 튜플 tuple\n",
    "# 리스트와 동일하지만, 크기나 값을 변경할 수 없음.\n",
    "\n",
    "t = (0, 3, 7)\n",
    "a = (2)\n",
    "b = ('game', 1, 3.14, 2019)"
   ]
  },
  {
   "cell_type": "code",
   "execution_count": null,
   "metadata": {},
   "outputs": [],
   "source": []
  }
 ],
 "metadata": {
  "kernelspec": {
   "display_name": "Python 3",
   "language": "python",
   "name": "python3"
  },
  "language_info": {
   "codemirror_mode": {
    "name": "ipython",
    "version": 3
   },
   "file_extension": ".py",
   "mimetype": "text/x-python",
   "name": "python",
   "nbconvert_exporter": "python",
   "pygments_lexer": "ipython3",
   "version": "3.8.5"
  }
 },
 "nbformat": 4,
 "nbformat_minor": 4
}
