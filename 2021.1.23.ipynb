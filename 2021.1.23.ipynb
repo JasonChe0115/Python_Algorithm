{
 "cells": [
  {
   "cell_type": "code",
   "execution_count": 10,
   "metadata": {},
   "outputs": [
    {
     "name": "stdout",
     "output_type": "stream",
     "text": [
      "구구단 단 입력: 3\n",
      " 3 x 2 = 6\n",
      " 3 x 3 = 9\n",
      " 3 x 4 = 12\n",
      " 3 x 5 = 15\n",
      " 3 x 6 = 18\n",
      " 3 x 7 = 21\n",
      " 3 x 8 = 24\n",
      " 3 x 9 = 27\n"
     ]
    }
   ],
   "source": [
    "dan = int(input(\"구구단 단 입력: \"))\n",
    "for n in range(2, 10, 1):\n",
    "    print(\"%d x %d =\" %(dan, n), dan*n)"
   ]
  },
  {
   "cell_type": "code",
   "execution_count": 12,
   "metadata": {},
   "outputs": [
    {
     "name": "stdout",
     "output_type": "stream",
     "text": [
      "값=  33\n",
      "값=  99\n",
      "값=  12\n",
      "값=  52\n",
      "값=  26\n"
     ]
    }
   ],
   "source": [
    "mySet = set([12, 33, 52, 26, 99])\n",
    "for i in mySet:\n",
    "    print(\"값= \",i)"
   ]
  }
 ],
 "metadata": {
  "kernelspec": {
   "display_name": "Python 3",
   "language": "python",
   "name": "python3"
  },
  "language_info": {
   "codemirror_mode": {
    "name": "ipython",
    "version": 3
   },
   "file_extension": ".py",
   "mimetype": "text/x-python",
   "name": "python",
   "nbconvert_exporter": "python",
   "pygments_lexer": "ipython3",
   "version": "3.8.5"
  }
 },
 "nbformat": 4,
 "nbformat_minor": 4
}
