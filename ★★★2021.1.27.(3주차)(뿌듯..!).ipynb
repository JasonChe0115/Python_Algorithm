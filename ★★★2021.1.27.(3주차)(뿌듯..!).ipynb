{
 "cells": [
  {
   "cell_type": "code",
   "execution_count": 1,
   "metadata": {},
   "outputs": [
    {
     "name": "stdout",
     "output_type": "stream",
     "text": [
      "실행시간 : 0.20099902153015137 초\n"
     ]
    }
   ],
   "source": [
    "# Recursive version  재귀    \n",
    "import sys\n",
    "sys.setrecursionlimit(5000)\n",
    "import time\n",
    "\n",
    "def func1(n):\n",
    "    if n <= 1:\n",
    "        return n\n",
    "    else:\n",
    "        return n+func1(n-1)    # 한줄로 재귀함수\n",
    "    \n",
    "start = time.time()\n",
    "for i in range(1, 1500):\n",
    "    func1(i)   \n",
    "    \n",
    "print(\"실행시간 : %s 초\" %(time.time() - start))"
   ]
  },
  {
   "cell_type": "code",
   "execution_count": 3,
   "metadata": {},
   "outputs": [
    {
     "name": "stdout",
     "output_type": "stream",
     "text": [
      "실행시간 : 0.05097007751464844 초\n"
     ]
    }
   ],
   "source": [
    "# Iterative version  반복\n",
    "import sys\n",
    "sys.setrecursionlimit(5000)\n",
    "import time\n",
    "\n",
    "def func2(n):\n",
    "    sum = 0 \n",
    "    for i in range(n+1):\n",
    "        sum += i\n",
    "    return sum\n",
    "\n",
    "start = time.time()\n",
    "for i in range(1, 1500):            # 와우!! 대박쓰!!  이렇게만 해도, 실행이 되는구나!!\n",
    "    func2(i)\n",
    "\n",
    "print(\"실행시간 : %s 초\" %(time.time() - start))      \n"
   ]
  },
  {
   "cell_type": "code",
   "execution_count": null,
   "metadata": {},
   "outputs": [],
   "source": []
  }
 ],
 "metadata": {
  "kernelspec": {
   "display_name": "Python 3",
   "language": "python",
   "name": "python3"
  },
  "language_info": {
   "codemirror_mode": {
    "name": "ipython",
    "version": 3
   },
   "file_extension": ".py",
   "mimetype": "text/x-python",
   "name": "python",
   "nbconvert_exporter": "python",
   "pygments_lexer": "ipython3",
   "version": "3.8.5"
  }
 },
 "nbformat": 4,
 "nbformat_minor": 4
}
