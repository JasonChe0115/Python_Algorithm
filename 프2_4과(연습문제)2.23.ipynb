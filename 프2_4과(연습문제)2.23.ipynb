{
 "cells": [
  {
   "cell_type": "code",
   "execution_count": 47,
   "metadata": {},
   "outputs": [],
   "source": [
    "# 배열 구조를 이용한 함수 version\n",
    "\n",
    "top = []  # 스택을 저장할 리스트\n",
    "\n",
    "def isEmpty():\n",
    "    return len(top) == 0\n",
    "\n",
    "def push(item):\n",
    "    top.append(item)\n",
    "    \n",
    "def pop():\n",
    "    if not isEmpty():\n",
    "        return top.pop(-1)   #  -1 쓰는 이유는 가장 뒤에 있기 때문에.\n",
    "\n",
    "def peek():\n",
    "    if not isEmpty():\n",
    "        return top[-1]\n",
    "    \n",
    "def size():\n",
    "    return len(top)\n",
    "\n",
    "def clear():\n",
    "#     global top     # top이 전역변수 이기 떄문에\n",
    "    top = []\n",
    "    \n",
    "\n",
    "    "
   ]
  },
  {
   "cell_type": "code",
   "execution_count": 48,
   "metadata": {},
   "outputs": [],
   "source": [
    "# P155\n",
    "# 4.1\n",
    "# 문제 : 사용자로부터 문자열을 읽고 이것을 역순으로 출력하는 프로그램을 작성하라. 단, 4.2절에서 구현한 스텍을 사용한다.\n",
    "\n",
    "class Stack:\n",
    "    def __init__ (self):  # 생성자\n",
    "        self.one = []     # 아까는 top 이 밖에 있었는데, 각 인스턴스 마다 top을 만들어주기위해, top을 선언!\n",
    "        \n",
    "    def isEmpty(self):\n",
    "        return len(self.one) == 0\n",
    "\n",
    "    def push(self, item):\n",
    "        self.one.append(item)\n",
    "\n",
    "    def pop(self):\n",
    "        if not self.isEmpty():\n",
    "            return self.one.pop()   #  -1 쓰는 이유는 가장 뒤에 있기 때문에.\n",
    "\n",
    "    def peek(self):\n",
    "        if not self.isEmpty():\n",
    "            return self.one[-1]\n",
    "\n",
    "    def size(self):\n",
    "        return len(self.one)\n",
    "\n",
    "    def clear(self):\n",
    "        self.one = []\n",
    "    \n",
    "    def __str__(self):\n",
    "        return str(self.one[::-1])    # print 할 떄 자동으로 string 화"
   ]
  },
  {
   "cell_type": "code",
   "execution_count": 66,
   "metadata": {},
   "outputs": [],
   "source": [
    "one = Stack()"
   ]
  },
  {
   "cell_type": "code",
   "execution_count": 67,
   "metadata": {},
   "outputs": [],
   "source": [
    "one.push('1')\n",
    "one.push('달리기')\n",
    "one.push('2')\n",
    "one.push('재밋어')\n",
    "one.push('3')\n",
    "one.push('좋아요!')\n",
    "one.push('4')\n",
    "one.push('라쓰꼬우!')\n"
   ]
  },
  {
   "cell_type": "code",
   "execution_count": 68,
   "metadata": {},
   "outputs": [
    {
     "name": "stdout",
     "output_type": "stream",
     "text": [
      "['라쓰꼬우!', '4', '좋아요!', '3', '재밋어', '2', '달리기', '1']\n"
     ]
    }
   ],
   "source": [
    "print(one)"
   ]
  },
  {
   "cell_type": "code",
   "execution_count": 69,
   "metadata": {},
   "outputs": [],
   "source": [
    "#  이렇게 위에 처럼 하면, 그냥 스텍은 자동으로 역순으로 출력되지 않나요??"
   ]
  },
  {
   "cell_type": "code",
   "execution_count": 70,
   "metadata": {},
   "outputs": [
    {
     "data": {
      "text/plain": [
       "__main__.Stack"
      ]
     },
     "execution_count": 70,
     "metadata": {},
     "output_type": "execute_result"
    }
   ],
   "source": [
    "type(one)"
   ]
  },
  {
   "cell_type": "code",
   "execution_count": 71,
   "metadata": {},
   "outputs": [
    {
     "data": {
      "text/plain": [
       "'라쓰꼬우!'"
      ]
     },
     "execution_count": 71,
     "metadata": {},
     "output_type": "execute_result"
    }
   ],
   "source": [
    "one.pop()"
   ]
  },
  {
   "cell_type": "code",
   "execution_count": 31,
   "metadata": {},
   "outputs": [],
   "source": [
    "# p136 괄호검사   # 구글링해서 찾은 코드 입니다. \n",
    "\n",
    "def ReverseStack(statement):    # statement = 입력값.  한글자씩 볼것!\n",
    "    hello = Stack()   # 스택 선언\n",
    "    \n",
    "    for ch in statement:\n",
    "        hello.push(ch)\n",
    "        \n",
    "    result = \"\"\n",
    "    while len(hello) > 0:\n",
    "        result += one.pop()\n",
    "        \n",
    "    return result"
   ]
  },
  {
   "cell_type": "code",
   "execution_count": 16,
   "metadata": {},
   "outputs": [
    {
     "name": "stdout",
     "output_type": "stream",
     "text": [
      "LoL\n"
     ]
    }
   ],
   "source": [
    "print(one.peek())"
   ]
  },
  {
   "cell_type": "code",
   "execution_count": 72,
   "metadata": {},
   "outputs": [],
   "source": [
    "# p4.5\n",
    "\n",
    "# 4.5절의 코드를 수정하여(문제에 오류가 있다.)\n",
    "\n",
    "# 4.4 (계산기 코드)를 수정하여 사용자로부터 직접 중위표기 수식을 입력받아 이를 처리하여 결과를 출력하는 프로그램을 작성하라.\n",
    "\n",
    "\n",
    "# 1. 중위 ---> 후위 로 바꾸는 코드를 만든다.\n",
    "\n",
    "# 2. 후위 ---> 결과값. 계산하는 코드를 만든다.\n",
    "\n",
    "\n",
    "# 이미 책에 코드가 있으니까, p141,145,146 코드를 가져오자.\n",
    "\n",
    "# 살짝만 바꿔주자.\n"
   ]
  },
  {
   "cell_type": "code",
   "execution_count": 73,
   "metadata": {},
   "outputs": [],
   "source": [
    "# 1. 중위 ---> 후위 코드\n",
    "def Infix2Postfix(expr):\n",
    "    s = Stack()\n",
    "    output = []\n",
    "     \n",
    "    for term in expr:\n",
    "        if term in '(':\n",
    "            s.push('(')\n",
    "        elif term in ')':\n",
    "            while not s.isEmpty():\n",
    "                op = s.pop()\n",
    "                if op == '(': break\n",
    "                else:\n",
    "                    output.append(op)\n",
    "                    \n",
    "        elif term in '+-*/':\n",
    "            while not s.isEmpty():\n",
    "                op = s.peek()\n",
    "                if (precedence(term) <= precedence(op)):\n",
    "                    output.append(op)\n",
    "                    s.pop()\n",
    "                else: break\n",
    "               # 연산자의 우선순위를 체크\n",
    "            s.push(term)\n",
    "        else:\n",
    "            output.append(term)\n",
    "    \n",
    "    while not s.isEmpty():\n",
    "        output.append(s.pop())\n",
    "    \n",
    "    return output"
   ]
  },
  {
   "cell_type": "code",
   "execution_count": 74,
   "metadata": {},
   "outputs": [],
   "source": [
    "# 2. 후위 계산기\n",
    "def evalPostfix(expr):\n",
    "    s = Stack()\n",
    "    \n",
    "    for token in expr:\n",
    "        if token in ('+-*/'):\n",
    "            val2 = s.pop()\n",
    "            val1 = s.pop()\n",
    "            if (token == '+'): s.push(val1 + val2)\n",
    "            if (token == '-'): s.push(val1 - val2)\n",
    "            if (token == '*'): s.push(val1 * val2)\n",
    "            if (token == '/'): s.push(val1 / val2)\n",
    "        else:\n",
    "            s.push(float(token))\n",
    "    \n",
    "    return s.pop()\n"
   ]
  },
  {
   "cell_type": "code",
   "execution_count": 75,
   "metadata": {},
   "outputs": [
    {
     "data": {
      "text/plain": [
       "<function eval(source, globals=None, locals=None, /)>"
      ]
     },
     "execution_count": 75,
     "metadata": {},
     "output_type": "execute_result"
    }
   ],
   "source": [
    "expr1 = ['8', '2', '/', '3', '-', '3', '2', '*', '+']\n",
    "eval"
   ]
  },
  {
   "cell_type": "code",
   "execution_count": 76,
   "metadata": {},
   "outputs": [],
   "source": [
    "def Infix2Postfix(expr):\n",
    "    s = Stack()\n",
    "    output = []\n",
    "     \n",
    "    for term in expr:\n",
    "        if term in '(':\n",
    "            s.push('(')\n",
    "        elif term in ')':\n",
    "            while not s.isEmpty():\n",
    "                op = s.pop()\n",
    "                if op == '(': break\n",
    "                else:\n",
    "                    output.append(op)\n",
    "                    \n",
    "        elif term in '+-*/':\n",
    "            while not s.isEmpty():\n",
    "                op = s.peek()\n",
    "                if (precedence(term) <= precedence(op)):\n",
    "                    output.append(op)\n",
    "                    s.pop()\n",
    "                else: break\n",
    "               # 연산자의 우선순위를 체크\n",
    "            s.push(term)\n",
    "        else:\n",
    "            output.append(term)\n",
    "    \n",
    "    while not s.isEmpty():\n",
    "        output.append(s.pop())\n",
    "    \n",
    "    return output"
   ]
  },
  {
   "cell_type": "code",
   "execution_count": 77,
   "metadata": {},
   "outputs": [],
   "source": [
    "# 4.9\n",
    "class Stack:\n",
    "    def __init__ (self):  # 생성자\n",
    "        self.top = []     # 아까는 top 이 밖에 있었는데, 각 인스턴스 마다 top을 만들어주기위해, top을 선언!\n",
    "        \n",
    "\n",
    "    def isEmpty(self):\n",
    "        return len(self.top) == 0\n",
    "\n",
    "    def push(self, item):\n",
    "        self.top.append(item)\n",
    "\n",
    "    def pop(self):\n",
    "        if not self.isEmpty():\n",
    "            return self.top.pop(-1)   #  -1 쓰는 이유는 가장 뒤에 있기 때문에.\n",
    "\n",
    "    def peek(self):\n",
    "        if not self.isEmpty():\n",
    "            return self.top[-1]\n",
    "\n",
    "    def size(self):\n",
    "        return len(self.top)\n",
    "\n",
    "    def clear(self):\n",
    "        self.top = []\n",
    "    \n",
    "    def __str__(self):\n",
    "        return str(self.top[::-1])    # print 할 떄 자동으로 string 화\n",
    "    \n",
    "    def display(self):\n",
    "        for i in range(MAX_SIZE-1):\n",
    "            print(self(-1))"
   ]
  },
  {
   "cell_type": "code",
   "execution_count": 79,
   "metadata": {},
   "outputs": [],
   "source": [
    "a = Stack()\n",
    "a.push('1')\n",
    "a.push('5')\n",
    "a.push('67')\n",
    "a.push('헬로')\n",
    "a.push('안녕하세요')"
   ]
  },
  {
   "cell_type": "code",
   "execution_count": 80,
   "metadata": {},
   "outputs": [
    {
     "data": {
      "text/plain": [
       "<__main__.Stack at 0x1ac01497730>"
      ]
     },
     "metadata": {},
     "output_type": "display_data"
    }
   ],
   "source": [
    "display(a)"
   ]
  },
  {
   "cell_type": "code",
   "execution_count": null,
   "metadata": {},
   "outputs": [],
   "source": []
  }
 ],
 "metadata": {
  "kernelspec": {
   "display_name": "Python 3",
   "language": "python",
   "name": "python3"
  },
  "language_info": {
   "codemirror_mode": {
    "name": "ipython",
    "version": 3
   },
   "file_extension": ".py",
   "mimetype": "text/x-python",
   "name": "python",
   "nbconvert_exporter": "python",
   "pygments_lexer": "ipython3",
   "version": "3.8.5"
  }
 },
 "nbformat": 4,
 "nbformat_minor": 4
}
