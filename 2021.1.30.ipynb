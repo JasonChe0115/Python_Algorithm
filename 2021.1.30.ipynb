{
 "cells": [
  {
   "cell_type": "code",
   "execution_count": 12,
   "metadata": {},
   "outputs": [
    {
     "name": "stdout",
     "output_type": "stream",
     "text": [
      "파이 값: 3.14159\n",
      "원둘레(r=10) =  0\n"
     ]
    }
   ],
   "source": [
    "def calc_perimeter(radius):\n",
    "#     global perimeter\n",
    "    print(\"파이 값:\", pi)\n",
    "    perimeter = 2*pi*radius\n",
    "\n",
    "pi = 3.14159\n",
    "perimeter = 0\n",
    "calc_perimeter(10)\n",
    "print(\"원둘레(r=10) = \", perimeter)"
   ]
  },
  {
   "cell_type": "code",
   "execution_count": 9,
   "metadata": {},
   "outputs": [
    {
     "name": "stdout",
     "output_type": "stream",
     "text": [
      "파이 값: 3.14159\n",
      "원둘레(r=10) =  62.8318\n"
     ]
    }
   ],
   "source": [
    "def calc_perimeter(radius):\n",
    "    global perimeter\n",
    "    print(\"파이 값:\", pi)\n",
    "    perimeter = 2*pi*radius\n",
    "\n",
    "pi = 3.14159\n",
    "perimeter = 0\n",
    "calc_perimeter(10)\n",
    "print(\"원둘레(r=10) = \", perimeter)"
   ]
  },
  {
   "cell_type": "code",
   "execution_count": 16,
   "metadata": {},
   "outputs": [
    {
     "name": "stdout",
     "output_type": "stream",
     "text": [
      "파이 값: 3.14159\n",
      "원둘레(r=10) =  0\n"
     ]
    }
   ],
   "source": [
    "def calc_perimeter(radius):\n",
    "#     global perimeter\n",
    "    print(\"파이 값:\", pi)\n",
    "    perimeter = 2*pi*radius\n",
    "\n",
    "pi = 3.14159\n",
    "perimeter = 0\n",
    "calc_perimeter(10)\n",
    "print(\"원둘레(r=10) = \", perimeter)"
   ]
  },
  {
   "cell_type": "code",
   "execution_count": 20,
   "metadata": {},
   "outputs": [
    {
     "name": "stdout",
     "output_type": "stream",
     "text": [
      "파이 값: 3.14159\n",
      "원둘레(r=10) =  62.8318\n"
     ]
    }
   ],
   "source": [
    "def calc_perimeter(radius):\n",
    "    global pi\n",
    "    print(\"파이 값:\", pi)\n",
    "    perimeter = 2*pi*radius\n",
    "\n",
    "pi = 3.14159\n",
    "# perimeter = 0\n",
    "calc_perimeter(10)\n",
    "print(\"원둘레(r=10) = \", perimeter)"
   ]
  },
  {
   "cell_type": "code",
   "execution_count": null,
   "metadata": {},
   "outputs": [],
   "source": []
  },
  {
   "cell_type": "code",
   "execution_count": 41,
   "metadata": {},
   "outputs": [
    {
     "name": "stdout",
     "output_type": "stream",
     "text": [
      "car2==car6 :  False\n",
      "car3==car6 :  True\n",
      "[car3] color = yellow, speed = 30\n"
     ]
    }
   ],
   "source": [
    "class Car:\n",
    "    def __init__(self, color, speed=0):\n",
    "        self.color = color\n",
    "        self.speed = speed\n",
    "    def speedUp(self):\n",
    "        self.speed += 10  # 가속 : 속도 10 증가\n",
    "    def speedDown(self):\n",
    "        self.speed -= 10  # 감속 ; 속도 10 감소\n",
    "    def isEqual(self, carB):\n",
    "        if self.color == carB.color:\n",
    "            return True\n",
    "        else:\n",
    "            return False\n",
    "    def __eq__(self, carB):\n",
    "        return self.color == carB.color\n",
    "    def __str__(self):\n",
    "        return \"color = %s, speed = %d\" % (self.color, self.speed)\n",
    "    \n",
    "car1 = Car('black', 0)\n",
    "car2 = Car('red', 120)\n",
    "car3 = Car('yellow', 30)\n",
    "car4 = Car('blue', 0)\n",
    "car5 = Car('green')\n",
    "car2.speedDown()\n",
    "car4.speedUp()\n",
    "\n",
    "car6 = Car('yellow')\n",
    "print(\"car2==car6 : \", car2==car5)\n",
    "print(\"car3==car6 : \", car3==car6)\n",
    "print(\"[car3]\", car3)"
   ]
  },
  {
   "cell_type": "code",
   "execution_count": null,
   "metadata": {},
   "outputs": [],
   "source": [
    " class SuperCar(Car):\n",
    "        def __init__(self, color, speed = 0, bturbo = :True):\n",
    "            super().__init__(color, speed)\n",
    "            self.bTurbo = bTurbo"
   ]
  },
  {
   "cell_type": "code",
   "execution_count": null,
   "metadata": {},
   "outputs": [],
   "source": []
  },
  {
   "cell_type": "code",
   "execution_count": 2,
   "metadata": {},
   "outputs": [
    {
     "name": "stdout",
     "output_type": "stream",
     "text": [
      "고양이 이름은 나비 색깔은 검정색\n"
     ]
    }
   ],
   "source": [
    "class Cat:\n",
    "    def info(self):\n",
    "        self.name = \"나비\"\n",
    "        self.color = \"검정색\"\n",
    "        print('고양이 이름은', self.name, '색깔은', self.color)\n",
    "    \n",
    "cat = Cat()\n",
    "cat.info()"
   ]
  },
  {
   "cell_type": "code",
   "execution_count": null,
   "metadata": {},
   "outputs": [],
   "source": [
    "# 객체 지향 프로그래밍\n",
    "# 잘 설계된 클래스를 이용하여 객체 \n"
   ]
  }
 ],
 "metadata": {
  "kernelspec": {
   "display_name": "Python 3",
   "language": "python",
   "name": "python3"
  },
  "language_info": {
   "codemirror_mode": {
    "name": "ipython",
    "version": 3
   },
   "file_extension": ".py",
   "mimetype": "text/x-python",
   "name": "python",
   "nbconvert_exporter": "python",
   "pygments_lexer": "ipython3",
   "version": "3.8.5"
  }
 },
 "nbformat": 4,
 "nbformat_minor": 4
}
